{
 "cells": [
  {
   "cell_type": "markdown",
   "id": "547e5d28",
   "metadata": {},
   "source": [
    "Importamos las librerias a utilizar"
   ]
  },
  {
   "cell_type": "code",
   "execution_count": 4,
   "id": "e909169c",
   "metadata": {},
   "outputs": [],
   "source": [
    "import pandas as pd\n",
    "import matplotlib.pyplot as plt\n"
   ]
  },
  {
   "cell_type": "code",
   "execution_count": 9,
   "id": "e2b690c8",
   "metadata": {},
   "outputs": [
    {
     "data": {
      "text/html": [
       "<div>\n",
       "<style scoped>\n",
       "    .dataframe tbody tr th:only-of-type {\n",
       "        vertical-align: middle;\n",
       "    }\n",
       "\n",
       "    .dataframe tbody tr th {\n",
       "        vertical-align: top;\n",
       "    }\n",
       "\n",
       "    .dataframe thead th {\n",
       "        text-align: right;\n",
       "    }\n",
       "</style>\n",
       "<table border=\"1\" class=\"dataframe\">\n",
       "  <thead>\n",
       "    <tr style=\"text-align: right;\">\n",
       "      <th></th>\n",
       "      <th>Fecha</th>\n",
       "      <th>Tienda</th>\n",
       "      <th>Distrito</th>\n",
       "      <th>Vendedor</th>\n",
       "      <th>Articulo</th>\n",
       "      <th>Marca</th>\n",
       "      <th>Cantidad</th>\n",
       "      <th>Precio</th>\n",
       "      <th>Total</th>\n",
       "    </tr>\n",
       "  </thead>\n",
       "  <tbody>\n",
       "    <tr>\n",
       "      <th>0</th>\n",
       "      <td>2022-01-01</td>\n",
       "      <td>Carsa</td>\n",
       "      <td>San Miguel</td>\n",
       "      <td>Rivera</td>\n",
       "      <td>Refrigerador</td>\n",
       "      <td>Daewoo</td>\n",
       "      <td>78</td>\n",
       "      <td>980</td>\n",
       "      <td>76440</td>\n",
       "    </tr>\n",
       "    <tr>\n",
       "      <th>1</th>\n",
       "      <td>2022-01-02</td>\n",
       "      <td>Elektra</td>\n",
       "      <td>San Isidro</td>\n",
       "      <td>Rivera</td>\n",
       "      <td>Lavadora</td>\n",
       "      <td>LG</td>\n",
       "      <td>93</td>\n",
       "      <td>730</td>\n",
       "      <td>67890</td>\n",
       "    </tr>\n",
       "    <tr>\n",
       "      <th>2</th>\n",
       "      <td>2022-01-14</td>\n",
       "      <td>Hiraoka</td>\n",
       "      <td>San Isidro</td>\n",
       "      <td>Salazar</td>\n",
       "      <td>Lavadora</td>\n",
       "      <td>LG</td>\n",
       "      <td>78</td>\n",
       "      <td>730</td>\n",
       "      <td>56940</td>\n",
       "    </tr>\n",
       "    <tr>\n",
       "      <th>3</th>\n",
       "      <td>2022-01-03</td>\n",
       "      <td>Elektra</td>\n",
       "      <td>San Miguel</td>\n",
       "      <td>Bellido</td>\n",
       "      <td>Lavadora</td>\n",
       "      <td>Daewoo</td>\n",
       "      <td>86</td>\n",
       "      <td>550</td>\n",
       "      <td>47300</td>\n",
       "    </tr>\n",
       "    <tr>\n",
       "      <th>4</th>\n",
       "      <td>2022-01-04</td>\n",
       "      <td>Hiraoka</td>\n",
       "      <td>San Isidro</td>\n",
       "      <td>Rivera</td>\n",
       "      <td>Lavadora</td>\n",
       "      <td>Daewoo</td>\n",
       "      <td>122</td>\n",
       "      <td>550</td>\n",
       "      <td>67100</td>\n",
       "    </tr>\n",
       "    <tr>\n",
       "      <th>...</th>\n",
       "      <td>...</td>\n",
       "      <td>...</td>\n",
       "      <td>...</td>\n",
       "      <td>...</td>\n",
       "      <td>...</td>\n",
       "      <td>...</td>\n",
       "      <td>...</td>\n",
       "      <td>...</td>\n",
       "      <td>...</td>\n",
       "    </tr>\n",
       "    <tr>\n",
       "      <th>85</th>\n",
       "      <td>2022-01-04</td>\n",
       "      <td>Elektra</td>\n",
       "      <td>San Miguel</td>\n",
       "      <td>Salazar</td>\n",
       "      <td>Refrigerador</td>\n",
       "      <td>Daewoo</td>\n",
       "      <td>105</td>\n",
       "      <td>980</td>\n",
       "      <td>102900</td>\n",
       "    </tr>\n",
       "    <tr>\n",
       "      <th>86</th>\n",
       "      <td>2022-01-13</td>\n",
       "      <td>Carsa</td>\n",
       "      <td>Los Olivos</td>\n",
       "      <td>Salazar</td>\n",
       "      <td>Refrigerador</td>\n",
       "      <td>Daewoo</td>\n",
       "      <td>166</td>\n",
       "      <td>980</td>\n",
       "      <td>162680</td>\n",
       "    </tr>\n",
       "    <tr>\n",
       "      <th>87</th>\n",
       "      <td>2022-01-09</td>\n",
       "      <td>Elektra</td>\n",
       "      <td>Barranco</td>\n",
       "      <td>Rivera</td>\n",
       "      <td>Televisor</td>\n",
       "      <td>Samsung</td>\n",
       "      <td>84</td>\n",
       "      <td>720</td>\n",
       "      <td>60480</td>\n",
       "    </tr>\n",
       "    <tr>\n",
       "      <th>88</th>\n",
       "      <td>2022-01-07</td>\n",
       "      <td>Elektra</td>\n",
       "      <td>San Isidro</td>\n",
       "      <td>Rivera</td>\n",
       "      <td>Lavadora</td>\n",
       "      <td>LG</td>\n",
       "      <td>197</td>\n",
       "      <td>730</td>\n",
       "      <td>143810</td>\n",
       "    </tr>\n",
       "    <tr>\n",
       "      <th>89</th>\n",
       "      <td>2022-01-10</td>\n",
       "      <td>Hiraoka</td>\n",
       "      <td>San Isidro</td>\n",
       "      <td>Salazar</td>\n",
       "      <td>Refrigerador</td>\n",
       "      <td>LG</td>\n",
       "      <td>46</td>\n",
       "      <td>1410</td>\n",
       "      <td>64860</td>\n",
       "    </tr>\n",
       "  </tbody>\n",
       "</table>\n",
       "<p>90 rows × 9 columns</p>\n",
       "</div>"
      ],
      "text/plain": [
       "        Fecha   Tienda    Distrito Vendedor      Articulo    Marca  Cantidad  \\\n",
       "0  2022-01-01    Carsa  San Miguel   Rivera  Refrigerador   Daewoo        78   \n",
       "1  2022-01-02  Elektra  San Isidro   Rivera      Lavadora       LG        93   \n",
       "2  2022-01-14  Hiraoka  San Isidro  Salazar      Lavadora       LG        78   \n",
       "3  2022-01-03  Elektra  San Miguel  Bellido      Lavadora   Daewoo        86   \n",
       "4  2022-01-04  Hiraoka  San Isidro   Rivera      Lavadora   Daewoo       122   \n",
       "..        ...      ...         ...      ...           ...      ...       ...   \n",
       "85 2022-01-04  Elektra  San Miguel  Salazar  Refrigerador   Daewoo       105   \n",
       "86 2022-01-13    Carsa  Los Olivos  Salazar  Refrigerador   Daewoo       166   \n",
       "87 2022-01-09  Elektra    Barranco   Rivera     Televisor  Samsung        84   \n",
       "88 2022-01-07  Elektra  San Isidro   Rivera      Lavadora       LG       197   \n",
       "89 2022-01-10  Hiraoka  San Isidro  Salazar  Refrigerador       LG        46   \n",
       "\n",
       "    Precio   Total  \n",
       "0      980   76440  \n",
       "1      730   67890  \n",
       "2      730   56940  \n",
       "3      550   47300  \n",
       "4      550   67100  \n",
       "..     ...     ...  \n",
       "85     980  102900  \n",
       "86     980  162680  \n",
       "87     720   60480  \n",
       "88     730  143810  \n",
       "89    1410   64860  \n",
       "\n",
       "[90 rows x 9 columns]"
      ]
     },
     "execution_count": 9,
     "metadata": {},
     "output_type": "execute_result"
    }
   ],
   "source": [
    "##La tabla se encuentra en la fila 10,y la hoja se llama BaseDatos\n",
    "df=pd.read_excel(\"Excel_project.xlsm\",skiprows=9,sheet_name='BaseDatos')\n",
    "df"
   ]
  },
  {
   "cell_type": "markdown",
   "id": "8771772e",
   "metadata": {},
   "source": [
    "#### Definimos las funciones , para crear una tabla pivote, para obtener las columnas en forma de lista"
   ]
  },
  {
   "cell_type": "code",
   "execution_count": 13,
   "id": "b51a72b0",
   "metadata": {},
   "outputs": [],
   "source": [
    "##\n",
    "def get_label(table):\n",
    "    lista=[]\n",
    "    for n in table.columns:\n",
    "        lista.append(n)\n",
    "    return lista\n",
    "    "
   ]
  },
  {
   "cell_type": "code",
   "execution_count": 14,
   "id": "6d6197b8",
   "metadata": {},
   "outputs": [],
   "source": [
    "def crear_pivot_table(df,index,columns,values,aggfunc):\n",
    "\n",
    "    table=df.pivot_table(index=index,columns=columns,values=values,aggfunc=aggfunc)\n",
    "    return table"
   ]
  },
  {
   "cell_type": "markdown",
   "id": "294496e0",
   "metadata": {},
   "source": [
    "#### Creamos las tabla pivote en la cual usaremos las columnas marital y education y calculando la suma de balance"
   ]
  },
  {
   "cell_type": "code",
   "execution_count": 18,
   "id": "58184bba",
   "metadata": {
    "scrolled": true
   },
   "outputs": [],
   "source": [
    "\n",
    "tabla1=crear_pivot_table(df,index='Tienda',columns='Distrito',values='Total',aggfunc='sum')\n"
   ]
  },
  {
   "cell_type": "code",
   "execution_count": 19,
   "id": "191d57e9",
   "metadata": {},
   "outputs": [
    {
     "data": {
      "text/html": [
       "<div>\n",
       "<style scoped>\n",
       "    .dataframe tbody tr th:only-of-type {\n",
       "        vertical-align: middle;\n",
       "    }\n",
       "\n",
       "    .dataframe tbody tr th {\n",
       "        vertical-align: top;\n",
       "    }\n",
       "\n",
       "    .dataframe thead th {\n",
       "        text-align: right;\n",
       "    }\n",
       "</style>\n",
       "<table border=\"1\" class=\"dataframe\">\n",
       "  <thead>\n",
       "    <tr style=\"text-align: right;\">\n",
       "      <th>Distrito</th>\n",
       "      <th>Barranco</th>\n",
       "      <th>Los Olivos</th>\n",
       "      <th>San Isidro</th>\n",
       "      <th>San Miguel</th>\n",
       "    </tr>\n",
       "    <tr>\n",
       "      <th>Tienda</th>\n",
       "      <th></th>\n",
       "      <th></th>\n",
       "      <th></th>\n",
       "      <th></th>\n",
       "    </tr>\n",
       "  </thead>\n",
       "  <tbody>\n",
       "    <tr>\n",
       "      <th>Carsa</th>\n",
       "      <td>577430</td>\n",
       "      <td>622720</td>\n",
       "      <td>635140</td>\n",
       "      <td>661410</td>\n",
       "    </tr>\n",
       "    <tr>\n",
       "      <th>Elektra</th>\n",
       "      <td>583700</td>\n",
       "      <td>852230</td>\n",
       "      <td>536490</td>\n",
       "      <td>829540</td>\n",
       "    </tr>\n",
       "    <tr>\n",
       "      <th>Hiraoka</th>\n",
       "      <td>875350</td>\n",
       "      <td>632150</td>\n",
       "      <td>602650</td>\n",
       "      <td>365090</td>\n",
       "    </tr>\n",
       "  </tbody>\n",
       "</table>\n",
       "</div>"
      ],
      "text/plain": [
       "Distrito  Barranco  Los Olivos  San Isidro  San Miguel\n",
       "Tienda                                                \n",
       "Carsa       577430      622720      635140      661410\n",
       "Elektra     583700      852230      536490      829540\n",
       "Hiraoka     875350      632150      602650      365090"
      ]
     },
     "execution_count": 19,
     "metadata": {},
     "output_type": "execute_result"
    }
   ],
   "source": [
    "tabla1"
   ]
  },
  {
   "cell_type": "markdown",
   "id": "c71442a8",
   "metadata": {},
   "source": [
    "### Finalmente decidimos que tabla pasar al excel"
   ]
  },
  {
   "cell_type": "code",
   "execution_count": 20,
   "id": "72ea6d4c",
   "metadata": {},
   "outputs": [],
   "source": [
    "def pasar_a_excel(tabla,pestaña):\n",
    "    tabla.to_excel(path,sheet_name=pestaña)\n",
    "    "
   ]
  },
  {
   "cell_type": "markdown",
   "id": "dbd38268",
   "metadata": {},
   "source": [
    "Se creara un archivo con nombre \"ReporteAutomatizado\" en donde estará nuestra tabla dinámica o pivote"
   ]
  },
  {
   "cell_type": "markdown",
   "id": "f6761389",
   "metadata": {},
   "source": [
    "### Extra: Función para crear graficas PIE, se pueden generar funciones para cualquier tipo de gráfica"
   ]
  },
  {
   "cell_type": "code",
   "execution_count": 22,
   "id": "e2a4596f",
   "metadata": {},
   "outputs": [],
   "source": [
    "def mostrar_figura(table,title):\n",
    "    plt.figure()\n",
    "    plt.title(title)\n",
    "    plt.pie(table.iloc[0],labels=get_label(table),autopct='%1.1f%%')\n",
    "    plt.show()"
   ]
  },
  {
   "cell_type": "markdown",
   "id": "ab05acc1",
   "metadata": {},
   "source": [
    "#### Mostramos sus graficas"
   ]
  },
  {
   "cell_type": "code",
   "execution_count": 11,
   "id": "7fc8cf84",
   "metadata": {
    "scrolled": true
   },
   "outputs": [
    {
     "data": {
      "image/png": "[encoded data removed]",
      "text/plain": [
       "<Figure size 432x288 with 1 Axes>"
      ]
     },
     "metadata": {},
     "output_type": "display_data"
    },
    {
     "data": {
      "image/png": "[encoded data removed]",
      "text/plain": [
       "<Figure size 432x288 with 1 Axes>"
      ]
     },
     "metadata": {},
     "output_type": "display_data"
    },
    {
     "data": {
      "image/png": "[encoded data removed]",
      "text/plain": [
       "<Figure size 432x288 with 1 Axes>"
      ]
     },
     "metadata": {},
     "output_type": "display_data"
    },
    {
     "data": {
      "image/png": "[encoded data removed]",
      "text/plain": [
       "<Figure size 432x288 with 1 Axes>"
      ]
     },
     "metadata": {},
     "output_type": "display_data"
    }
   ],
   "source": [
    "mostrar_figura(tabla1,'grafico1')\n",
    "mostrar_figura(tabla2,'grafico2')\n",
    "mostrar_figura(tabla3,'grafico3')\n",
    "mostrar_figura(tabla4,'grafico4')\n",
    "    "
   ]
  }
 ],
 "metadata": {
  "kernelspec": {
   "display_name": "Python 3 (ipykernel)",
   "language": "python",
   "name": "python3"
  },
  "language_info": {
   "codemirror_mode": {
    "name": "ipython",
    "version": 3
   },
   "file_extension": ".py",
   "mimetype": "text/x-python",
   "name": "python",
   "nbconvert_exporter": "python",
   "pygments_lexer": "ipython3",
   "version": "3.10.4"
  },
  "vscode": {
   "interpreter": {
    "hash": "edf259275ad4a72d4dd5b452264ad5fb2b635233dff2a31edc6ebc740e55e21b"
   }
  }
 },
 "nbformat": 4,
 "nbformat_minor": 5
}
